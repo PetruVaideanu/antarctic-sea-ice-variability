{
 "cells": [
  {
   "cell_type": "code",
   "execution_count": 1,
   "id": "e9b1829e-69b1-4331-91b0-d7abf7af9c70",
   "metadata": {},
   "outputs": [],
   "source": [
    "import xarray as xr\n",
    "import numpy as np\n",
    "import pandas as pd"
   ]
  },
  {
   "cell_type": "markdown",
   "id": "10099af4-7e84-4d40-b14f-fbdf56aabfec",
   "metadata": {},
   "source": [
    "This script computes spatial similarity between ERA5 and modelled CCA-generated coupled sea ice concentration and surface air temperature  patterns using area-weighted cosine similarity method. ERA5 patterns associated with CO₂, IPO, and AMO are interpolated to the model grid (here, CanESM2), and appropriate sign flips are applied based on expected physical alignment. The method ensures consistent handling of masked data and grid weighting. The approach can be readily applied to the rest of the climate models' data by replacing the input datasets and maintaining the pattern association and preprocessing conventions."
   ]
  },
  {
   "cell_type": "code",
   "execution_count": 2,
   "id": "b8a0c064-540b-48b2-a42e-097429d7c1f4",
   "metadata": {},
   "outputs": [
    {
     "name": "stdout",
     "output_type": "stream",
     "text": [
      "     Model Pattern       SIC       SAT\n",
      "0  CanESM2     CO2  0.394272  0.719655\n",
      "1  CanESM2     IPO  0.449567  0.523698\n",
      "2  CanESM2     AMO  0.057840  0.032349\n"
     ]
    }
   ],
   "source": [
    "# Area-weighted cosine similarity\n",
    "#SAT \n",
    "def simple_area_weighted_cosine(a, b, lat):\n",
    "    weights = np.cos(np.radians(lat))[:, np.newaxis]\n",
    "    weights_2d = np.broadcast_to(weights, a.shape)\n",
    "    dot = np.sum(a * b * weights_2d)\n",
    "    norm_a = np.sqrt(np.sum((a**2) * weights_2d))\n",
    "    norm_b = np.sqrt(np.sum((b**2) * weights_2d))\n",
    "    return dot / (norm_a * norm_b)\n",
    "\n",
    "#SIC \n",
    "def hybrid_similarity(obs, model, lat, threshold=1.0):\n",
    "    weights = np.cos(np.radians(lat))[:, np.newaxis]\n",
    "    weights_2d = np.broadcast_to(weights, obs.shape)\n",
    "    mask = (np.abs(obs) > threshold) | (np.abs(model) > threshold)\n",
    "    obs_masked = np.where(mask, obs, np.nan)\n",
    "    model_masked = np.where(mask, model, np.nan)\n",
    "\n",
    "    def normalize(x):\n",
    "        x_flat = x[~np.isnan(x)]\n",
    "        return (x - np.nanmean(x_flat)) / np.nanstd(x_flat)\n",
    "\n",
    "    obs_norm = normalize(obs_masked)\n",
    "    model_norm = normalize(model_masked)\n",
    "    model_norm_flipped = -1 * model_norm\n",
    "\n",
    "    def cosine_sim(a, b):\n",
    "        a_flat = a[~np.isnan(a) & ~np.isnan(b)]\n",
    "        b_flat = b[~np.isnan(a) & ~np.isnan(b)]\n",
    "        w_flat = weights_2d[~np.isnan(a) & ~np.isnan(b)]\n",
    "        dot = np.sum(a_flat * b_flat * w_flat)\n",
    "        norm_a = np.sqrt(np.sum((a_flat**2) * w_flat))\n",
    "        norm_b = np.sqrt(np.sum((b_flat**2) * w_flat))\n",
    "        return dot / (norm_a * norm_b)\n",
    "\n",
    "    cos1 = cosine_sim(obs_norm, model_norm)\n",
    "    cos2 = cosine_sim(obs_norm, model_norm_flipped)\n",
    "    return {\"cosine\": cos2 if abs(cos2) > abs(cos1) else cos1}\n",
    "\n",
    "# Rename coordinates\n",
    "def safe_rename(ds):\n",
    "    coords = ds.coords\n",
    "    rename_dict = {}\n",
    "    if 'latitude' in coords:\n",
    "        rename_dict['latitude'] = 'lat'\n",
    "    if 'longitude' in coords:\n",
    "        rename_dict['longitude'] = 'lon'\n",
    "    return ds.rename(rename_dict)\n",
    "\n",
    "# Load model CCA patterns\n",
    "sic = xr.open_dataset(\"SIC_CanESM2_CCA123.nc\")\n",
    "sat = xr.open_dataset(\"SAT_CanESM2_CCA123.nc\").rename({\n",
    "    'sic1': 'sat1', 'sic2': 'sat2', 'sic3': 'sat3'\n",
    "})\n",
    "\n",
    "# Load ERA5 CCA patterns\n",
    "obs_sic = {\n",
    "    \"CO2\": xr.open_dataset(\"SIC_OBS_CCA1_CO2.nc\")[\"sic1\"],\n",
    "    \"AMO\": -1 * xr.open_dataset(\"SIC_OBS_CCA2_AMO.nc\")[\"sic2\"],\n",
    "    \"IPO\": 1 * xr.open_dataset(\"SIC_OBS_CCA3_IPO.nc\")[\"sic3\"]\n",
    "}\n",
    "obs_sat = {\n",
    "    \"CO2\": xr.open_dataset(\"T2M_Comp_CO2.nc\")[\"T2M\"],\n",
    "    \"AMO\": xr.open_dataset(\"T2M_diff_PC2_AMO_compoz.nc\")[\"T2M\"],\n",
    "    \"IPO\": xr.open_dataset(\"T2M_diff_composite_Antarctica_PC3_IPO.nc\")[\"T2M\"]\n",
    "}\n",
    "\n",
    "# Standardize coordinate names\n",
    "obs_sic = {key: safe_rename(ds) for key, ds in obs_sic.items()}\n",
    "obs_sat = {key: safe_rename(ds) for key, ds in obs_sat.items()}\n",
    "\n",
    "# Interpolate observations to CanESM2 grid\n",
    "obs_sic_interp = {key: ds.interp(lat=sic.lat, lon=sic.lon, method=\"nearest\") for key, ds in obs_sic.items()}\n",
    "obs_sat_interp = {key: ds.interp(lat=sat.lat, lon=sat.lon, method=\"nearest\") for key, ds in obs_sat.items()}\n",
    "\n",
    "# Flip model components to highlight the corresponding phase of the three drivers\n",
    "sic2_flipped = -1 * sic[\"sic2\"]\n",
    "sic3_flipped = -1 * sic[\"sic3\"]\n",
    "sat2_flipped = -1 * sat[\"sat2\"]\n",
    "sat3_flipped = -1 * sat[\"sat3\"]\n",
    "\n",
    "# --- Compute Cosine Similarities ---\n",
    "\n",
    "# SIC cosine similarity\n",
    "sic_cosine = [\n",
    "    hybrid_similarity(obs_sic_interp[\"CO2\"].values, sic[\"sic1\"].values, sic[\"lat\"].values, threshold=1.0)[\"cosine\"],\n",
    "    hybrid_similarity(obs_sic_interp[\"IPO\"].values, sic2_flipped.values, sic[\"lat\"].values)[\"cosine\"],\n",
    "    hybrid_similarity(obs_sic_interp[\"AMO\"].values, sic3_flipped.values, sic[\"lat\"].values)[\"cosine\"]\n",
    "]\n",
    "\n",
    "# SAT cosine similarity \n",
    "sat_cosine = [\n",
    "    simple_area_weighted_cosine(obs_sat_interp[\"CO2\"].values, sat[\"sat1\"].values, sat[\"lat\"].values),\n",
    "    simple_area_weighted_cosine(obs_sat_interp[\"IPO\"].values, sat2_flipped.values, sat[\"lat\"].values),\n",
    "    simple_area_weighted_cosine(obs_sat_interp[\"AMO\"].values, sat3_flipped.values, sat[\"lat\"].values)\n",
    "]\n",
    "\n",
    "# --- Results ---\n",
    "\n",
    "df = pd.DataFrame({\n",
    "    \"Model\": \"CanESM2\",\n",
    "    \"Pattern\": [\"CO2\", \"IPO\", \"AMO\"],\n",
    "    \"SIC\": sic_cosine,\n",
    "    \"SAT\": sat_cosine\n",
    "})\n",
    "\n",
    "print(df)"
   ]
  },
  {
   "cell_type": "code",
   "execution_count": null,
   "id": "0ecb7547-1381-4bc2-9c2f-1a757a4e6dc7",
   "metadata": {},
   "outputs": [],
   "source": []
  },
  {
   "cell_type": "code",
   "execution_count": null,
   "id": "1090eac8-a2bc-4667-98b5-18d27b2c502f",
   "metadata": {},
   "outputs": [],
   "source": []
  },
  {
   "cell_type": "code",
   "execution_count": null,
   "id": "78ee29c7-23ac-49e6-9dfb-87b3922afc60",
   "metadata": {},
   "outputs": [],
   "source": []
  },
  {
   "cell_type": "code",
   "execution_count": null,
   "id": "8e5b7eb4-0cd2-4252-87e5-060b2fd85fd6",
   "metadata": {},
   "outputs": [],
   "source": []
  },
  {
   "cell_type": "code",
   "execution_count": null,
   "id": "9baf24a3-bff9-4c61-88fd-1fa16c825538",
   "metadata": {},
   "outputs": [],
   "source": []
  },
  {
   "cell_type": "code",
   "execution_count": null,
   "id": "6b8aea07-f790-4523-86e6-ac3c9866b1b8",
   "metadata": {},
   "outputs": [],
   "source": []
  },
  {
   "cell_type": "code",
   "execution_count": null,
   "id": "410f9ccd-f4d8-4dcc-bba6-fa3d5f9f070d",
   "metadata": {},
   "outputs": [],
   "source": []
  },
  {
   "cell_type": "code",
   "execution_count": null,
   "id": "72b5ea73-8f39-44a2-9c4e-8dc89203e1f8",
   "metadata": {},
   "outputs": [],
   "source": []
  },
  {
   "cell_type": "code",
   "execution_count": null,
   "id": "1aeb61ba-8530-4324-a3f3-f01da36437cd",
   "metadata": {},
   "outputs": [],
   "source": []
  },
  {
   "cell_type": "code",
   "execution_count": null,
   "id": "7fc130b3-a715-414c-9c3e-afd6b2ab75f8",
   "metadata": {},
   "outputs": [],
   "source": []
  },
  {
   "cell_type": "code",
   "execution_count": null,
   "id": "b839985d-6596-4703-b384-e380e4763bc8",
   "metadata": {},
   "outputs": [],
   "source": []
  },
  {
   "cell_type": "code",
   "execution_count": null,
   "id": "95da1ffe-556d-4af4-a501-5d24c444de09",
   "metadata": {},
   "outputs": [],
   "source": []
  },
  {
   "cell_type": "code",
   "execution_count": null,
   "id": "ed55c857-9de5-48fa-8fd2-c7c07cd44596",
   "metadata": {},
   "outputs": [],
   "source": []
  },
  {
   "cell_type": "code",
   "execution_count": null,
   "id": "942f65ad-4514-4f1d-b968-cd7d6b8de480",
   "metadata": {},
   "outputs": [],
   "source": []
  },
  {
   "cell_type": "code",
   "execution_count": null,
   "id": "e850706f-15c2-4264-9de8-b9c7b7aa9191",
   "metadata": {},
   "outputs": [],
   "source": []
  },
  {
   "cell_type": "code",
   "execution_count": null,
   "id": "12c3c904-2e64-456d-832d-8cffda2400d1",
   "metadata": {},
   "outputs": [],
   "source": []
  },
  {
   "cell_type": "code",
   "execution_count": null,
   "id": "1286336c-7436-4004-845c-3d662ff9bef1",
   "metadata": {},
   "outputs": [],
   "source": []
  },
  {
   "cell_type": "code",
   "execution_count": null,
   "id": "be64b02b-1d77-4d94-8187-2e3f1c6dfd30",
   "metadata": {},
   "outputs": [],
   "source": []
  },
  {
   "cell_type": "code",
   "execution_count": null,
   "id": "f3caacae-bd8e-4b54-bf50-c58f06629baa",
   "metadata": {},
   "outputs": [],
   "source": []
  },
  {
   "cell_type": "code",
   "execution_count": null,
   "id": "84aa4cfc-adc0-41a2-b2c3-c421cd4f580f",
   "metadata": {},
   "outputs": [],
   "source": []
  },
  {
   "cell_type": "code",
   "execution_count": null,
   "id": "94f850e5-5296-488c-a5a1-0459716f375c",
   "metadata": {},
   "outputs": [],
   "source": []
  },
  {
   "cell_type": "code",
   "execution_count": null,
   "id": "1f00e41e-fe13-4a1d-b7f2-f803fba429be",
   "metadata": {},
   "outputs": [],
   "source": []
  },
  {
   "cell_type": "code",
   "execution_count": null,
   "id": "6270bd9d-e72d-453d-b348-4349a3898b5b",
   "metadata": {},
   "outputs": [],
   "source": []
  },
  {
   "cell_type": "code",
   "execution_count": null,
   "id": "5af980c9-10ad-46de-8ff8-35ea69245c1b",
   "metadata": {},
   "outputs": [],
   "source": []
  },
  {
   "cell_type": "code",
   "execution_count": null,
   "id": "82b1663f-fd08-468b-82ab-f30ad194ce1e",
   "metadata": {},
   "outputs": [],
   "source": []
  }
 ],
 "metadata": {
  "kernelspec": {
   "display_name": "Python (Gocat)",
   "language": "python",
   "name": "gocat"
  },
  "language_info": {
   "codemirror_mode": {
    "name": "ipython",
    "version": 3
   },
   "file_extension": ".py",
   "mimetype": "text/x-python",
   "name": "python",
   "nbconvert_exporter": "python",
   "pygments_lexer": "ipython3",
   "version": "3.10.17"
  },
  "widgets": {
   "application/vnd.jupyter.widget-state+json": {
    "state": {},
    "version_major": 2,
    "version_minor": 0
   }
  }
 },
 "nbformat": 4,
 "nbformat_minor": 5
}
